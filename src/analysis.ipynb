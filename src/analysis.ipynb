{
 "cells": [
  {
   "cell_type": "code",
   "execution_count": 499,
   "id": "fbdb95b2-dfa2-4184-b9d3-6445b98e9571",
   "metadata": {},
   "outputs": [],
   "source": [
    "# Importing necessary libraries\n",
    "import gzip\n",
    "import shutil\n",
    "import os\n",
    "import pandas as pd\n",
    "from pandas import json_normalize\n",
    "import json\n",
    "import sqlite3"
   ]
  },
  {
   "cell_type": "markdown",
   "id": "b2faac45-302e-4153-90d5-c8de8fea81ce",
   "metadata": {},
   "source": [
    "# Data Wrangling "
   ]
  },
  {
   "cell_type": "markdown",
   "id": "b011bb6d-7f8a-4877-8636-8ec388a9ca79",
   "metadata": {},
   "source": [
    "## Receipts"
   ]
  },
  {
   "cell_type": "code",
   "execution_count": 500,
   "id": "189138d6-dacd-4036-867b-5ec8fe1e408b",
   "metadata": {},
   "outputs": [],
   "source": [
    "df_receipts = pd.read_json('data_gzip/receipts.json.gz', lines=True, compression='gzip')"
   ]
  },
  {
   "cell_type": "code",
   "execution_count": 501,
   "id": "b31bb8d6-3e8b-42e8-a564-d355844c2cbf",
   "metadata": {},
   "outputs": [
    {
     "data": {
      "text/html": [
       "<div>\n",
       "<style scoped>\n",
       "    .dataframe tbody tr th:only-of-type {\n",
       "        vertical-align: middle;\n",
       "    }\n",
       "\n",
       "    .dataframe tbody tr th {\n",
       "        vertical-align: top;\n",
       "    }\n",
       "\n",
       "    .dataframe thead th {\n",
       "        text-align: right;\n",
       "    }\n",
       "</style>\n",
       "<table border=\"1\" class=\"dataframe\">\n",
       "  <thead>\n",
       "    <tr style=\"text-align: right;\">\n",
       "      <th></th>\n",
       "      <th>_id</th>\n",
       "      <th>bonusPointsEarned</th>\n",
       "      <th>bonusPointsEarnedReason</th>\n",
       "      <th>createDate</th>\n",
       "      <th>dateScanned</th>\n",
       "      <th>finishedDate</th>\n",
       "      <th>modifyDate</th>\n",
       "      <th>pointsAwardedDate</th>\n",
       "      <th>pointsEarned</th>\n",
       "      <th>purchaseDate</th>\n",
       "      <th>purchasedItemCount</th>\n",
       "      <th>rewardsReceiptItemList</th>\n",
       "      <th>rewardsReceiptStatus</th>\n",
       "      <th>totalSpent</th>\n",
       "      <th>userId</th>\n",
       "    </tr>\n",
       "  </thead>\n",
       "  <tbody>\n",
       "    <tr>\n",
       "      <th>0</th>\n",
       "      <td>{'$oid': '5ff1e1eb0a720f0523000575'}</td>\n",
       "      <td>500.0</td>\n",
       "      <td>Receipt number 2 completed, bonus point schedu...</td>\n",
       "      <td>{'$date': 1609687531000}</td>\n",
       "      <td>{'$date': 1609687531000}</td>\n",
       "      <td>{'$date': 1609687531000}</td>\n",
       "      <td>{'$date': 1609687536000}</td>\n",
       "      <td>{'$date': 1609687531000}</td>\n",
       "      <td>500.0</td>\n",
       "      <td>{'$date': 1609632000000}</td>\n",
       "      <td>5.0</td>\n",
       "      <td>[{'barcode': '4011', 'description': 'ITEM NOT ...</td>\n",
       "      <td>FINISHED</td>\n",
       "      <td>26.0</td>\n",
       "      <td>5ff1e1eacfcf6c399c274ae6</td>\n",
       "    </tr>\n",
       "    <tr>\n",
       "      <th>1</th>\n",
       "      <td>{'$oid': '5ff1e1bb0a720f052300056b'}</td>\n",
       "      <td>150.0</td>\n",
       "      <td>Receipt number 5 completed, bonus point schedu...</td>\n",
       "      <td>{'$date': 1609687483000}</td>\n",
       "      <td>{'$date': 1609687483000}</td>\n",
       "      <td>{'$date': 1609687483000}</td>\n",
       "      <td>{'$date': 1609687488000}</td>\n",
       "      <td>{'$date': 1609687483000}</td>\n",
       "      <td>150.0</td>\n",
       "      <td>{'$date': 1609601083000}</td>\n",
       "      <td>2.0</td>\n",
       "      <td>[{'barcode': '4011', 'description': 'ITEM NOT ...</td>\n",
       "      <td>FINISHED</td>\n",
       "      <td>11.0</td>\n",
       "      <td>5ff1e194b6a9d73a3a9f1052</td>\n",
       "    </tr>\n",
       "    <tr>\n",
       "      <th>2</th>\n",
       "      <td>{'$oid': '5ff1e1f10a720f052300057a'}</td>\n",
       "      <td>5.0</td>\n",
       "      <td>All-receipts receipt bonus</td>\n",
       "      <td>{'$date': 1609687537000}</td>\n",
       "      <td>{'$date': 1609687537000}</td>\n",
       "      <td>NaN</td>\n",
       "      <td>{'$date': 1609687542000}</td>\n",
       "      <td>NaN</td>\n",
       "      <td>5.0</td>\n",
       "      <td>{'$date': 1609632000000}</td>\n",
       "      <td>1.0</td>\n",
       "      <td>[{'needsFetchReview': False, 'partnerItemId': ...</td>\n",
       "      <td>REJECTED</td>\n",
       "      <td>10.0</td>\n",
       "      <td>5ff1e1f1cfcf6c399c274b0b</td>\n",
       "    </tr>\n",
       "    <tr>\n",
       "      <th>3</th>\n",
       "      <td>{'$oid': '5ff1e1ee0a7214ada100056f'}</td>\n",
       "      <td>5.0</td>\n",
       "      <td>All-receipts receipt bonus</td>\n",
       "      <td>{'$date': 1609687534000}</td>\n",
       "      <td>{'$date': 1609687534000}</td>\n",
       "      <td>{'$date': 1609687534000}</td>\n",
       "      <td>{'$date': 1609687539000}</td>\n",
       "      <td>{'$date': 1609687534000}</td>\n",
       "      <td>5.0</td>\n",
       "      <td>{'$date': 1609632000000}</td>\n",
       "      <td>4.0</td>\n",
       "      <td>[{'barcode': '4011', 'description': 'ITEM NOT ...</td>\n",
       "      <td>FINISHED</td>\n",
       "      <td>28.0</td>\n",
       "      <td>5ff1e1eacfcf6c399c274ae6</td>\n",
       "    </tr>\n",
       "    <tr>\n",
       "      <th>4</th>\n",
       "      <td>{'$oid': '5ff1e1d20a7214ada1000561'}</td>\n",
       "      <td>5.0</td>\n",
       "      <td>All-receipts receipt bonus</td>\n",
       "      <td>{'$date': 1609687506000}</td>\n",
       "      <td>{'$date': 1609687506000}</td>\n",
       "      <td>{'$date': 1609687511000}</td>\n",
       "      <td>{'$date': 1609687511000}</td>\n",
       "      <td>{'$date': 1609687506000}</td>\n",
       "      <td>5.0</td>\n",
       "      <td>{'$date': 1609601106000}</td>\n",
       "      <td>2.0</td>\n",
       "      <td>[{'barcode': '4011', 'description': 'ITEM NOT ...</td>\n",
       "      <td>FINISHED</td>\n",
       "      <td>1.0</td>\n",
       "      <td>5ff1e194b6a9d73a3a9f1052</td>\n",
       "    </tr>\n",
       "  </tbody>\n",
       "</table>\n",
       "</div>"
      ],
      "text/plain": [
       "                                    _id  bonusPointsEarned  \\\n",
       "0  {'$oid': '5ff1e1eb0a720f0523000575'}              500.0   \n",
       "1  {'$oid': '5ff1e1bb0a720f052300056b'}              150.0   \n",
       "2  {'$oid': '5ff1e1f10a720f052300057a'}                5.0   \n",
       "3  {'$oid': '5ff1e1ee0a7214ada100056f'}                5.0   \n",
       "4  {'$oid': '5ff1e1d20a7214ada1000561'}                5.0   \n",
       "\n",
       "                             bonusPointsEarnedReason  \\\n",
       "0  Receipt number 2 completed, bonus point schedu...   \n",
       "1  Receipt number 5 completed, bonus point schedu...   \n",
       "2                         All-receipts receipt bonus   \n",
       "3                         All-receipts receipt bonus   \n",
       "4                         All-receipts receipt bonus   \n",
       "\n",
       "                 createDate               dateScanned  \\\n",
       "0  {'$date': 1609687531000}  {'$date': 1609687531000}   \n",
       "1  {'$date': 1609687483000}  {'$date': 1609687483000}   \n",
       "2  {'$date': 1609687537000}  {'$date': 1609687537000}   \n",
       "3  {'$date': 1609687534000}  {'$date': 1609687534000}   \n",
       "4  {'$date': 1609687506000}  {'$date': 1609687506000}   \n",
       "\n",
       "               finishedDate                modifyDate  \\\n",
       "0  {'$date': 1609687531000}  {'$date': 1609687536000}   \n",
       "1  {'$date': 1609687483000}  {'$date': 1609687488000}   \n",
       "2                       NaN  {'$date': 1609687542000}   \n",
       "3  {'$date': 1609687534000}  {'$date': 1609687539000}   \n",
       "4  {'$date': 1609687511000}  {'$date': 1609687511000}   \n",
       "\n",
       "          pointsAwardedDate  pointsEarned              purchaseDate  \\\n",
       "0  {'$date': 1609687531000}         500.0  {'$date': 1609632000000}   \n",
       "1  {'$date': 1609687483000}         150.0  {'$date': 1609601083000}   \n",
       "2                       NaN           5.0  {'$date': 1609632000000}   \n",
       "3  {'$date': 1609687534000}           5.0  {'$date': 1609632000000}   \n",
       "4  {'$date': 1609687506000}           5.0  {'$date': 1609601106000}   \n",
       "\n",
       "   purchasedItemCount                             rewardsReceiptItemList  \\\n",
       "0                 5.0  [{'barcode': '4011', 'description': 'ITEM NOT ...   \n",
       "1                 2.0  [{'barcode': '4011', 'description': 'ITEM NOT ...   \n",
       "2                 1.0  [{'needsFetchReview': False, 'partnerItemId': ...   \n",
       "3                 4.0  [{'barcode': '4011', 'description': 'ITEM NOT ...   \n",
       "4                 2.0  [{'barcode': '4011', 'description': 'ITEM NOT ...   \n",
       "\n",
       "  rewardsReceiptStatus  totalSpent                    userId  \n",
       "0             FINISHED        26.0  5ff1e1eacfcf6c399c274ae6  \n",
       "1             FINISHED        11.0  5ff1e194b6a9d73a3a9f1052  \n",
       "2             REJECTED        10.0  5ff1e1f1cfcf6c399c274b0b  \n",
       "3             FINISHED        28.0  5ff1e1eacfcf6c399c274ae6  \n",
       "4             FINISHED         1.0  5ff1e194b6a9d73a3a9f1052  "
      ]
     },
     "execution_count": 501,
     "metadata": {},
     "output_type": "execute_result"
    }
   ],
   "source": [
    "df_receipts.head()"
   ]
  },
  {
   "cell_type": "code",
   "execution_count": 502,
   "id": "6866093c-c665-4587-ae31-ed2beec82090",
   "metadata": {},
   "outputs": [
    {
     "name": "stdout",
     "output_type": "stream",
     "text": [
      "<class 'pandas.core.frame.DataFrame'>\n",
      "RangeIndex: 1119 entries, 0 to 1118\n",
      "Data columns (total 15 columns):\n",
      " #   Column                   Non-Null Count  Dtype  \n",
      "---  ------                   --------------  -----  \n",
      " 0   _id                      1119 non-null   object \n",
      " 1   bonusPointsEarned        544 non-null    float64\n",
      " 2   bonusPointsEarnedReason  544 non-null    object \n",
      " 3   createDate               1119 non-null   object \n",
      " 4   dateScanned              1119 non-null   object \n",
      " 5   finishedDate             568 non-null    object \n",
      " 6   modifyDate               1119 non-null   object \n",
      " 7   pointsAwardedDate        537 non-null    object \n",
      " 8   pointsEarned             609 non-null    float64\n",
      " 9   purchaseDate             671 non-null    object \n",
      " 10  purchasedItemCount       635 non-null    float64\n",
      " 11  rewardsReceiptItemList   679 non-null    object \n",
      " 12  rewardsReceiptStatus     1119 non-null   object \n",
      " 13  totalSpent               684 non-null    float64\n",
      " 14  userId                   1119 non-null   object \n",
      "dtypes: float64(4), object(11)\n",
      "memory usage: 131.3+ KB\n"
     ]
    }
   ],
   "source": [
    "df_receipts.info()"
   ]
  },
  {
   "cell_type": "code",
   "execution_count": 503,
   "id": "e361e9e2-fbcd-4563-a5b2-3cde14f48d8d",
   "metadata": {},
   "outputs": [
    {
     "data": {
      "text/plain": [
       "(1119, 15)"
      ]
     },
     "execution_count": 503,
     "metadata": {},
     "output_type": "execute_result"
    }
   ],
   "source": [
    "df_receipts.shape"
   ]
  },
  {
   "cell_type": "markdown",
   "id": "6f0d6c39-ba21-46c2-8b23-d07975103ff0",
   "metadata": {},
   "source": [
    "**Cleaning _id and all Date field so that they're are easy to analyse and process. Converting all timestrape to DateTime since all date-based manipulations can be performed directly in your SQL queries, even without having separated date components as individual columns in your database**"
   ]
  },
  {
   "cell_type": "code",
   "execution_count": 504,
   "id": "cc1224f3-fef2-45e9-ab6b-644bd179803a",
   "metadata": {},
   "outputs": [],
   "source": [
    "df_receipts['_id'] = df_receipts['_id'].apply(lambda x: x.get('$oid') if isinstance(x, dict) else None)\n",
    "df_receipts.rename(columns={'_id': 'receipts_id'}, inplace=True)\n",
    "\n",
    "# Similar checks for date fields, converting them to datetime only if they are dictionaries\n",
    "df_receipts['createDate'] = pd.to_datetime(df_receipts['createDate'].apply(lambda x: x.get('$date') if isinstance(x, dict) else None), unit='ms', errors='coerce')\n",
    "df_receipts['dateScanned'] = pd.to_datetime(df_receipts['dateScanned'].apply(lambda x: x.get('$date') if isinstance(x, dict) else None), unit='ms', errors='coerce')\n",
    "df_receipts['finishedDate'] = pd.to_datetime(df_receipts['finishedDate'].apply(lambda x: x.get('$date') if isinstance(x, dict) else None), unit='ms', errors='coerce')\n",
    "df_receipts['modifyDate'] = pd.to_datetime(df_receipts['modifyDate'].apply(lambda x: x.get('$date') if isinstance(x, dict) else None), unit='ms', errors='coerce')\n",
    "df_receipts['pointsAwardedDate'] = pd.to_datetime(df_receipts['pointsAwardedDate'].apply(lambda x: x.get('$date') if isinstance(x, dict) else None), unit='ms', errors='coerce')\n",
    "df_receipts['purchaseDate'] = pd.to_datetime(df_receipts['purchaseDate'].apply(lambda x: x.get('$date') if isinstance(x, dict) else None), unit='ms', errors='coerce')"
   ]
  },
  {
   "cell_type": "code",
   "execution_count": 505,
   "id": "15bf8135-c106-4c9d-a713-389973b9aa11",
   "metadata": {},
   "outputs": [
    {
     "name": "stdout",
     "output_type": "stream",
     "text": [
      "<class 'pandas.core.frame.DataFrame'>\n",
      "RangeIndex: 1119 entries, 0 to 1118\n",
      "Data columns (total 15 columns):\n",
      " #   Column                   Non-Null Count  Dtype         \n",
      "---  ------                   --------------  -----         \n",
      " 0   receipts_id              1119 non-null   object        \n",
      " 1   bonusPointsEarned        544 non-null    float64       \n",
      " 2   bonusPointsEarnedReason  544 non-null    object        \n",
      " 3   createDate               1119 non-null   datetime64[ns]\n",
      " 4   dateScanned              1119 non-null   datetime64[ns]\n",
      " 5   finishedDate             568 non-null    datetime64[ns]\n",
      " 6   modifyDate               1119 non-null   datetime64[ns]\n",
      " 7   pointsAwardedDate        537 non-null    datetime64[ns]\n",
      " 8   pointsEarned             609 non-null    float64       \n",
      " 9   purchaseDate             671 non-null    datetime64[ns]\n",
      " 10  purchasedItemCount       635 non-null    float64       \n",
      " 11  rewardsReceiptItemList   679 non-null    object        \n",
      " 12  rewardsReceiptStatus     1119 non-null   object        \n",
      " 13  totalSpent               684 non-null    float64       \n",
      " 14  userId                   1119 non-null   object        \n",
      "dtypes: datetime64[ns](6), float64(4), object(5)\n",
      "memory usage: 131.3+ KB\n"
     ]
    }
   ],
   "source": [
    "df_receipts.info()"
   ]
  },
  {
   "cell_type": "markdown",
   "id": "da5a36ad-6a01-4ca5-bf0d-a2d524c33267",
   "metadata": {},
   "source": [
    "Checking for duplicates for all rows in `df_receipts` is not feasible since it contains a column with unhashable types. The `duplicated()` method works by trying to hash the rows to find duplicates, but dictionaries and lists are mutable and hence unhashable.\n",
    "Therefore, need to check for duplicates excluding the column with nested dictionaries, that is, `rewardsReceiptItemList`. And this exclusion can be justified from business point of view as well: Row with same `rewardsReceiptItemList` not necessarily mean they are duplicates if they have different `_id`. And this goes for other columns as well, as long as `_id` is unique, it is not duplicate."
   ]
  },
  {
   "cell_type": "code",
   "execution_count": 506,
   "id": "587455c7-2dcc-4313-a96b-2e809a119fbf",
   "metadata": {},
   "outputs": [
    {
     "name": "stdout",
     "output_type": "stream",
     "text": [
      "0\n"
     ]
    }
   ],
   "source": [
    "duplicate_count = df_receipts['receipts_id'].duplicated().sum()\n",
    "print (duplicate_count)"
   ]
  },
  {
   "cell_type": "code",
   "execution_count": 507,
   "id": "48c62f5c-16f8-4004-8a1b-8030c239c783",
   "metadata": {},
   "outputs": [
    {
     "data": {
      "text/plain": [
       "receipts_id                  0\n",
       "bonusPointsEarned          575\n",
       "bonusPointsEarnedReason    575\n",
       "createDate                   0\n",
       "dateScanned                  0\n",
       "finishedDate               551\n",
       "modifyDate                   0\n",
       "pointsAwardedDate          582\n",
       "pointsEarned               510\n",
       "purchaseDate               448\n",
       "purchasedItemCount         484\n",
       "rewardsReceiptItemList     440\n",
       "rewardsReceiptStatus         0\n",
       "totalSpent                 435\n",
       "userId                       0\n",
       "dtype: int64"
      ]
     },
     "execution_count": 507,
     "metadata": {},
     "output_type": "execute_result"
    }
   ],
   "source": [
    "df_receipts.isnull().sum()"
   ]
  },
  {
   "cell_type": "markdown",
   "id": "889bc695-38aa-4413-b2f9-82e05728651d",
   "metadata": {},
   "source": [
    "In our `df_receipts` dataset, we encounter missing values in several columns such as `bonusPointsEarned`, `finishedDate`, and `totalSpent`. Addressing these is crucial for data integrity and analysis readiness. \n",
    "\n",
    "For numerical fields like `bonusPointsEarned`, imputation with median or mean values is a viable strategy to maintain data distribution. Categorical fields may be filled with the most common value (mode) or a placeholder like `'Unknown'`. Where applicable, business logic can be applied to calculate missing values, enhancing data accuracy.\n",
    "\n",
    "Columns with extensive missing data that are non-critical can be considered for removal to simplify the dataset. Optionally, flagging missing values can be informative, particularly for modeling purposes.\n",
    "\n",
    "The approach to handling missing data should balance completeness with quality, ensuring any adjustments are well-documented to clarify their impact on analyses or model outcomes."
   ]
  },
  {
   "cell_type": "markdown",
   "id": "618bb380-1121-4411-94a5-5d347b915871",
   "metadata": {},
   "source": [
    "### Normalizing the receipts Data"
   ]
  },
  {
   "cell_type": "markdown",
   "id": "c3bc6715-e2e3-40b4-821e-cd04bca0f74a",
   "metadata": {},
   "source": [
    "The receipts dataset contains a nested structure within rewardsReceiptItemList. Performing normalization of this into a separate DataFrame since, this will be easier to maintain, have better query performance and better database design."
   ]
  },
  {
   "cell_type": "code",
   "execution_count": 508,
   "id": "a7d86011-00a4-4f81-a26f-a97bca90aee6",
   "metadata": {},
   "outputs": [],
   "source": [
    "# Will skip over empty lists since, there are no items to create rows from, \n",
    "# no rows will be added to the output DataFrame for these particular records. \n",
    "df_receipt_items_list = json_normalize(data=df_receipts.to_dict(orient=\"records\"), record_path='rewardsReceiptItemList', \n",
    "                                    meta='receipts_id', \n",
    "                                    record_prefix='item_',\n",
    "                                    errors='ignore')\n",
    "\n",
    "df_receipts = df_receipts.drop(columns=['rewardsReceiptItemList'])"
   ]
  },
  {
   "cell_type": "code",
   "execution_count": 509,
   "id": "88e533b0-0eb2-485f-aa4f-6f88dbb9ce39",
   "metadata": {},
   "outputs": [
    {
     "name": "stdout",
     "output_type": "stream",
     "text": [
      "<class 'pandas.core.frame.DataFrame'>\n",
      "RangeIndex: 6941 entries, 0 to 6940\n",
      "Data columns (total 35 columns):\n",
      " #   Column                                   Non-Null Count  Dtype  \n",
      "---  ------                                   --------------  -----  \n",
      " 0   item_barcode                             3090 non-null   object \n",
      " 1   item_description                         6560 non-null   object \n",
      " 2   item_finalPrice                          6767 non-null   object \n",
      " 3   item_itemPrice                           6767 non-null   object \n",
      " 4   item_needsFetchReview                    813 non-null    object \n",
      " 5   item_partnerItemId                       6941 non-null   object \n",
      " 6   item_preventTargetGapPoints              358 non-null    object \n",
      " 7   item_quantityPurchased                   6767 non-null   float64\n",
      " 8   item_userFlaggedBarcode                  337 non-null    object \n",
      " 9   item_userFlaggedNewItem                  323 non-null    object \n",
      " 10  item_userFlaggedPrice                    299 non-null    object \n",
      " 11  item_userFlaggedQuantity                 299 non-null    float64\n",
      " 12  item_needsFetchReviewReason              219 non-null    object \n",
      " 13  item_pointsNotAwardedReason              340 non-null    object \n",
      " 14  item_pointsPayerId                       1267 non-null   object \n",
      " 15  item_rewardsGroup                        1731 non-null   object \n",
      " 16  item_rewardsProductPartnerId             2269 non-null   object \n",
      " 17  item_userFlaggedDescription              205 non-null    object \n",
      " 18  item_originalMetaBriteBarcode            71 non-null     object \n",
      " 19  item_originalMetaBriteDescription        10 non-null     object \n",
      " 20  item_brandCode                           2600 non-null   object \n",
      " 21  item_competitorRewardsGroup              275 non-null    object \n",
      " 22  item_discountedItemPrice                 5769 non-null   object \n",
      " 23  item_originalReceiptItemText             5760 non-null   object \n",
      " 24  item_itemNumber                          153 non-null    object \n",
      " 25  item_originalMetaBriteQuantityPurchased  15 non-null     float64\n",
      " 26  item_pointsEarned                        927 non-null    object \n",
      " 27  item_targetPrice                         378 non-null    object \n",
      " 28  item_competitiveProduct                  645 non-null    object \n",
      " 29  item_originalFinalPrice                  9 non-null      object \n",
      " 30  item_originalMetaBriteItemPrice          9 non-null      object \n",
      " 31  item_deleted                             9 non-null      object \n",
      " 32  item_priceAfterCoupon                    956 non-null    object \n",
      " 33  item_metabriteCampaignId                 863 non-null    object \n",
      " 34  receipts_id                              6941 non-null   object \n",
      "dtypes: float64(3), object(32)\n",
      "memory usage: 1.9+ MB\n"
     ]
    }
   ],
   "source": [
    "df_receipt_items_list.info()"
   ]
  },
  {
   "cell_type": "code",
   "execution_count": 510,
   "id": "fe042181-64d0-4cbd-bf2b-51e568c706a6",
   "metadata": {},
   "outputs": [
    {
     "data": {
      "text/plain": [
       "(6941, 35)"
      ]
     },
     "execution_count": 510,
     "metadata": {},
     "output_type": "execute_result"
    }
   ],
   "source": [
    "df_receipt_items_list.shape"
   ]
  },
  {
   "cell_type": "markdown",
   "id": "b0802d0d-89a2-4b81-adf3-e5f37a43d216",
   "metadata": {},
   "source": [
    "## Brands"
   ]
  },
  {
   "cell_type": "code",
   "execution_count": 511,
   "id": "a531d8cb-7603-43a6-9a46-f2e0682bd624",
   "metadata": {},
   "outputs": [],
   "source": [
    "df_brands = pd.read_json('data_gzip/brands.json.gz', lines=True, compression='gzip')"
   ]
  },
  {
   "cell_type": "code",
   "execution_count": 512,
   "id": "c61087c3-cdd1-42b6-ace3-06e17cff87c3",
   "metadata": {},
   "outputs": [
    {
     "data": {
      "text/html": [
       "<div>\n",
       "<style scoped>\n",
       "    .dataframe tbody tr th:only-of-type {\n",
       "        vertical-align: middle;\n",
       "    }\n",
       "\n",
       "    .dataframe tbody tr th {\n",
       "        vertical-align: top;\n",
       "    }\n",
       "\n",
       "    .dataframe thead th {\n",
       "        text-align: right;\n",
       "    }\n",
       "</style>\n",
       "<table border=\"1\" class=\"dataframe\">\n",
       "  <thead>\n",
       "    <tr style=\"text-align: right;\">\n",
       "      <th></th>\n",
       "      <th>_id</th>\n",
       "      <th>barcode</th>\n",
       "      <th>category</th>\n",
       "      <th>categoryCode</th>\n",
       "      <th>cpg</th>\n",
       "      <th>name</th>\n",
       "      <th>topBrand</th>\n",
       "      <th>brandCode</th>\n",
       "    </tr>\n",
       "  </thead>\n",
       "  <tbody>\n",
       "    <tr>\n",
       "      <th>0</th>\n",
       "      <td>{'$oid': '601ac115be37ce2ead437551'}</td>\n",
       "      <td>511111019862</td>\n",
       "      <td>Baking</td>\n",
       "      <td>BAKING</td>\n",
       "      <td>{'$id': {'$oid': '601ac114be37ce2ead437550'}, ...</td>\n",
       "      <td>test brand @1612366101024</td>\n",
       "      <td>0.0</td>\n",
       "      <td>NaN</td>\n",
       "    </tr>\n",
       "    <tr>\n",
       "      <th>1</th>\n",
       "      <td>{'$oid': '601c5460be37ce2ead43755f'}</td>\n",
       "      <td>511111519928</td>\n",
       "      <td>Beverages</td>\n",
       "      <td>BEVERAGES</td>\n",
       "      <td>{'$id': {'$oid': '5332f5fbe4b03c9a25efd0ba'}, ...</td>\n",
       "      <td>Starbucks</td>\n",
       "      <td>0.0</td>\n",
       "      <td>STARBUCKS</td>\n",
       "    </tr>\n",
       "    <tr>\n",
       "      <th>2</th>\n",
       "      <td>{'$oid': '601ac142be37ce2ead43755d'}</td>\n",
       "      <td>511111819905</td>\n",
       "      <td>Baking</td>\n",
       "      <td>BAKING</td>\n",
       "      <td>{'$id': {'$oid': '601ac142be37ce2ead437559'}, ...</td>\n",
       "      <td>test brand @1612366146176</td>\n",
       "      <td>0.0</td>\n",
       "      <td>TEST BRANDCODE @1612366146176</td>\n",
       "    </tr>\n",
       "    <tr>\n",
       "      <th>3</th>\n",
       "      <td>{'$oid': '601ac142be37ce2ead43755a'}</td>\n",
       "      <td>511111519874</td>\n",
       "      <td>Baking</td>\n",
       "      <td>BAKING</td>\n",
       "      <td>{'$id': {'$oid': '601ac142be37ce2ead437559'}, ...</td>\n",
       "      <td>test brand @1612366146051</td>\n",
       "      <td>0.0</td>\n",
       "      <td>TEST BRANDCODE @1612366146051</td>\n",
       "    </tr>\n",
       "    <tr>\n",
       "      <th>4</th>\n",
       "      <td>{'$oid': '601ac142be37ce2ead43755e'}</td>\n",
       "      <td>511111319917</td>\n",
       "      <td>Candy &amp; Sweets</td>\n",
       "      <td>CANDY_AND_SWEETS</td>\n",
       "      <td>{'$id': {'$oid': '5332fa12e4b03c9a25efd1e7'}, ...</td>\n",
       "      <td>test brand @1612366146827</td>\n",
       "      <td>0.0</td>\n",
       "      <td>TEST BRANDCODE @1612366146827</td>\n",
       "    </tr>\n",
       "  </tbody>\n",
       "</table>\n",
       "</div>"
      ],
      "text/plain": [
       "                                    _id       barcode        category  \\\n",
       "0  {'$oid': '601ac115be37ce2ead437551'}  511111019862          Baking   \n",
       "1  {'$oid': '601c5460be37ce2ead43755f'}  511111519928       Beverages   \n",
       "2  {'$oid': '601ac142be37ce2ead43755d'}  511111819905          Baking   \n",
       "3  {'$oid': '601ac142be37ce2ead43755a'}  511111519874          Baking   \n",
       "4  {'$oid': '601ac142be37ce2ead43755e'}  511111319917  Candy & Sweets   \n",
       "\n",
       "       categoryCode                                                cpg  \\\n",
       "0            BAKING  {'$id': {'$oid': '601ac114be37ce2ead437550'}, ...   \n",
       "1         BEVERAGES  {'$id': {'$oid': '5332f5fbe4b03c9a25efd0ba'}, ...   \n",
       "2            BAKING  {'$id': {'$oid': '601ac142be37ce2ead437559'}, ...   \n",
       "3            BAKING  {'$id': {'$oid': '601ac142be37ce2ead437559'}, ...   \n",
       "4  CANDY_AND_SWEETS  {'$id': {'$oid': '5332fa12e4b03c9a25efd1e7'}, ...   \n",
       "\n",
       "                        name  topBrand                      brandCode  \n",
       "0  test brand @1612366101024       0.0                            NaN  \n",
       "1                  Starbucks       0.0                      STARBUCKS  \n",
       "2  test brand @1612366146176       0.0  TEST BRANDCODE @1612366146176  \n",
       "3  test brand @1612366146051       0.0  TEST BRANDCODE @1612366146051  \n",
       "4  test brand @1612366146827       0.0  TEST BRANDCODE @1612366146827  "
      ]
     },
     "execution_count": 512,
     "metadata": {},
     "output_type": "execute_result"
    }
   ],
   "source": [
    "df_brands.head()"
   ]
  },
  {
   "cell_type": "code",
   "execution_count": 513,
   "id": "521f1ec5-bcab-4ad1-abfd-d5a533087c1a",
   "metadata": {},
   "outputs": [
    {
     "data": {
      "text/plain": [
       "(1167, 8)"
      ]
     },
     "execution_count": 513,
     "metadata": {},
     "output_type": "execute_result"
    }
   ],
   "source": [
    "df_brands.shape"
   ]
  },
  {
   "cell_type": "code",
   "execution_count": 514,
   "id": "3fb7db5a-3bec-4883-8510-cc897a0a2008",
   "metadata": {},
   "outputs": [
    {
     "name": "stdout",
     "output_type": "stream",
     "text": [
      "<class 'pandas.core.frame.DataFrame'>\n",
      "RangeIndex: 1167 entries, 0 to 1166\n",
      "Data columns (total 8 columns):\n",
      " #   Column        Non-Null Count  Dtype  \n",
      "---  ------        --------------  -----  \n",
      " 0   _id           1167 non-null   object \n",
      " 1   barcode       1167 non-null   int64  \n",
      " 2   category      1012 non-null   object \n",
      " 3   categoryCode  517 non-null    object \n",
      " 4   cpg           1167 non-null   object \n",
      " 5   name          1167 non-null   object \n",
      " 6   topBrand      555 non-null    float64\n",
      " 7   brandCode     933 non-null    object \n",
      "dtypes: float64(1), int64(1), object(6)\n",
      "memory usage: 73.1+ KB\n"
     ]
    }
   ],
   "source": [
    "df_brands.info()"
   ]
  },
  {
   "cell_type": "code",
   "execution_count": 515,
   "id": "a4a6ae3f-cfe9-4a56-8311-a9d125a5053d",
   "metadata": {},
   "outputs": [],
   "source": [
    "df_brands['_id'] = df_brands['_id'].apply(lambda x: x.get('$oid') if isinstance(x, dict) else None)\n",
    "df_brands.rename(columns={'_id': 'brand_id'}, inplace=True)"
   ]
  },
  {
   "cell_type": "code",
   "execution_count": 516,
   "id": "65ebdc58-3256-4302-b322-f652db71e952",
   "metadata": {},
   "outputs": [
    {
     "data": {
      "text/html": [
       "<div>\n",
       "<style scoped>\n",
       "    .dataframe tbody tr th:only-of-type {\n",
       "        vertical-align: middle;\n",
       "    }\n",
       "\n",
       "    .dataframe tbody tr th {\n",
       "        vertical-align: top;\n",
       "    }\n",
       "\n",
       "    .dataframe thead th {\n",
       "        text-align: right;\n",
       "    }\n",
       "</style>\n",
       "<table border=\"1\" class=\"dataframe\">\n",
       "  <thead>\n",
       "    <tr style=\"text-align: right;\">\n",
       "      <th></th>\n",
       "      <th>brand_id</th>\n",
       "      <th>barcode</th>\n",
       "      <th>category</th>\n",
       "      <th>categoryCode</th>\n",
       "      <th>cpg</th>\n",
       "      <th>name</th>\n",
       "      <th>topBrand</th>\n",
       "      <th>brandCode</th>\n",
       "    </tr>\n",
       "  </thead>\n",
       "  <tbody>\n",
       "    <tr>\n",
       "      <th>0</th>\n",
       "      <td>601ac115be37ce2ead437551</td>\n",
       "      <td>511111019862</td>\n",
       "      <td>Baking</td>\n",
       "      <td>BAKING</td>\n",
       "      <td>{'$id': {'$oid': '601ac114be37ce2ead437550'}, ...</td>\n",
       "      <td>test brand @1612366101024</td>\n",
       "      <td>0.0</td>\n",
       "      <td>NaN</td>\n",
       "    </tr>\n",
       "    <tr>\n",
       "      <th>1</th>\n",
       "      <td>601c5460be37ce2ead43755f</td>\n",
       "      <td>511111519928</td>\n",
       "      <td>Beverages</td>\n",
       "      <td>BEVERAGES</td>\n",
       "      <td>{'$id': {'$oid': '5332f5fbe4b03c9a25efd0ba'}, ...</td>\n",
       "      <td>Starbucks</td>\n",
       "      <td>0.0</td>\n",
       "      <td>STARBUCKS</td>\n",
       "    </tr>\n",
       "    <tr>\n",
       "      <th>2</th>\n",
       "      <td>601ac142be37ce2ead43755d</td>\n",
       "      <td>511111819905</td>\n",
       "      <td>Baking</td>\n",
       "      <td>BAKING</td>\n",
       "      <td>{'$id': {'$oid': '601ac142be37ce2ead437559'}, ...</td>\n",
       "      <td>test brand @1612366146176</td>\n",
       "      <td>0.0</td>\n",
       "      <td>TEST BRANDCODE @1612366146176</td>\n",
       "    </tr>\n",
       "    <tr>\n",
       "      <th>3</th>\n",
       "      <td>601ac142be37ce2ead43755a</td>\n",
       "      <td>511111519874</td>\n",
       "      <td>Baking</td>\n",
       "      <td>BAKING</td>\n",
       "      <td>{'$id': {'$oid': '601ac142be37ce2ead437559'}, ...</td>\n",
       "      <td>test brand @1612366146051</td>\n",
       "      <td>0.0</td>\n",
       "      <td>TEST BRANDCODE @1612366146051</td>\n",
       "    </tr>\n",
       "    <tr>\n",
       "      <th>4</th>\n",
       "      <td>601ac142be37ce2ead43755e</td>\n",
       "      <td>511111319917</td>\n",
       "      <td>Candy &amp; Sweets</td>\n",
       "      <td>CANDY_AND_SWEETS</td>\n",
       "      <td>{'$id': {'$oid': '5332fa12e4b03c9a25efd1e7'}, ...</td>\n",
       "      <td>test brand @1612366146827</td>\n",
       "      <td>0.0</td>\n",
       "      <td>TEST BRANDCODE @1612366146827</td>\n",
       "    </tr>\n",
       "  </tbody>\n",
       "</table>\n",
       "</div>"
      ],
      "text/plain": [
       "                   brand_id       barcode        category      categoryCode  \\\n",
       "0  601ac115be37ce2ead437551  511111019862          Baking            BAKING   \n",
       "1  601c5460be37ce2ead43755f  511111519928       Beverages         BEVERAGES   \n",
       "2  601ac142be37ce2ead43755d  511111819905          Baking            BAKING   \n",
       "3  601ac142be37ce2ead43755a  511111519874          Baking            BAKING   \n",
       "4  601ac142be37ce2ead43755e  511111319917  Candy & Sweets  CANDY_AND_SWEETS   \n",
       "\n",
       "                                                 cpg  \\\n",
       "0  {'$id': {'$oid': '601ac114be37ce2ead437550'}, ...   \n",
       "1  {'$id': {'$oid': '5332f5fbe4b03c9a25efd0ba'}, ...   \n",
       "2  {'$id': {'$oid': '601ac142be37ce2ead437559'}, ...   \n",
       "3  {'$id': {'$oid': '601ac142be37ce2ead437559'}, ...   \n",
       "4  {'$id': {'$oid': '5332fa12e4b03c9a25efd1e7'}, ...   \n",
       "\n",
       "                        name  topBrand                      brandCode  \n",
       "0  test brand @1612366101024       0.0                            NaN  \n",
       "1                  Starbucks       0.0                      STARBUCKS  \n",
       "2  test brand @1612366146176       0.0  TEST BRANDCODE @1612366146176  \n",
       "3  test brand @1612366146051       0.0  TEST BRANDCODE @1612366146051  \n",
       "4  test brand @1612366146827       0.0  TEST BRANDCODE @1612366146827  "
      ]
     },
     "execution_count": 516,
     "metadata": {},
     "output_type": "execute_result"
    }
   ],
   "source": [
    "df_brands.head()"
   ]
  },
  {
   "cell_type": "code",
   "execution_count": 517,
   "id": "1cc445bf-33da-466c-a2fc-5b745a6cc3ae",
   "metadata": {},
   "outputs": [
    {
     "name": "stdout",
     "output_type": "stream",
     "text": [
      "0\n"
     ]
    }
   ],
   "source": [
    "duplicate_count_brands = df_brands['brand_id'].duplicated().sum()\n",
    "print (duplicate_count_brands)"
   ]
  },
  {
   "cell_type": "code",
   "execution_count": 518,
   "id": "72dd2a1c-5d9c-4bff-8b06-822d446d5581",
   "metadata": {},
   "outputs": [
    {
     "data": {
      "text/plain": [
       "(1167, 8)"
      ]
     },
     "execution_count": 518,
     "metadata": {},
     "output_type": "execute_result"
    }
   ],
   "source": [
    "df_brands.shape"
   ]
  },
  {
   "cell_type": "code",
   "execution_count": 519,
   "id": "da60d695-e83d-4598-861d-d5f94b22e5c3",
   "metadata": {},
   "outputs": [
    {
     "data": {
      "text/plain": [
       "brand_id          0\n",
       "barcode           0\n",
       "category        155\n",
       "categoryCode    650\n",
       "cpg               0\n",
       "name              0\n",
       "topBrand        612\n",
       "brandCode       234\n",
       "dtype: int64"
      ]
     },
     "execution_count": 519,
     "metadata": {},
     "output_type": "execute_result"
    }
   ],
   "source": [
    "df_brands.isnull().sum()"
   ]
  },
  {
   "cell_type": "markdown",
   "id": "659db3b8-4bd5-4950-808d-896b555fe338",
   "metadata": {},
   "source": [
    "Addressing missing values in our `df_brands` DataFrame, with gaps in `category`, `categoryCode`, `topBrand`, and `brandCode`, is pivotal for ensuring data analysis integrity.\n",
    "\n",
    "Missing values in `topBrand` could pragmatically be treated as `False`, assuming unmarked brands aren't top brands, pending validation. The `brandCode` column, essential for detailed analysis or data linkage, requires careful consideration for imputation or record exclusion. Decisions on handling these missing values—imputation, exclusion, or acceptance—are guided by the dataset's context and our analysis goals, striving for a balance that maintains data integrity while enabling meaningful insights."
   ]
  },
  {
   "cell_type": "markdown",
   "id": "037458a5-4364-4e04-b3ed-d0a198eef9cb",
   "metadata": {},
   "source": [
    "### Brands table has nested `cpg` and to have better atomicity and scalablibilty it is best to separate `cpg` into different table and connecting it with `brands` table with foreign key `cpg_id`"
   ]
  },
  {
   "cell_type": "code",
   "execution_count": 520,
   "id": "16ac5156-fd36-4920-9253-59c6263afda0",
   "metadata": {},
   "outputs": [],
   "source": [
    "df_brands['cpg_id'] = df_brands['cpg'].apply(lambda x: x['$id']['$oid'])\n",
    "df_brands['cpg_ref'] = df_brands['cpg'].apply(lambda x: x['$ref'])\n",
    "\n",
    "df_cpg = df_brands[['cpg_id', 'cpg_ref']].drop_duplicates().reset_index(drop=True)\n",
    "\n",
    "df_brands = df_brands.drop(columns=['cpg'])\n",
    "df_brands = df_brands.drop(columns=['cpg_ref'])"
   ]
  },
  {
   "cell_type": "code",
   "execution_count": 521,
   "id": "e5b7e057-b8ce-4bb9-a6fd-bdea25aa2047",
   "metadata": {},
   "outputs": [
    {
     "name": "stdout",
     "output_type": "stream",
     "text": [
      "<class 'pandas.core.frame.DataFrame'>\n",
      "RangeIndex: 204 entries, 0 to 203\n",
      "Data columns (total 2 columns):\n",
      " #   Column   Non-Null Count  Dtype \n",
      "---  ------   --------------  ----- \n",
      " 0   cpg_id   204 non-null    object\n",
      " 1   cpg_ref  204 non-null    object\n",
      "dtypes: object(2)\n",
      "memory usage: 3.3+ KB\n"
     ]
    }
   ],
   "source": [
    "df_cpg.info()"
   ]
  },
  {
   "cell_type": "code",
   "execution_count": 522,
   "id": "b3681418-d146-41bc-9830-b403fa33d493",
   "metadata": {},
   "outputs": [
    {
     "data": {
      "text/html": [
       "<div>\n",
       "<style scoped>\n",
       "    .dataframe tbody tr th:only-of-type {\n",
       "        vertical-align: middle;\n",
       "    }\n",
       "\n",
       "    .dataframe tbody tr th {\n",
       "        vertical-align: top;\n",
       "    }\n",
       "\n",
       "    .dataframe thead th {\n",
       "        text-align: right;\n",
       "    }\n",
       "</style>\n",
       "<table border=\"1\" class=\"dataframe\">\n",
       "  <thead>\n",
       "    <tr style=\"text-align: right;\">\n",
       "      <th></th>\n",
       "      <th>cpg_id</th>\n",
       "      <th>cpg_ref</th>\n",
       "    </tr>\n",
       "  </thead>\n",
       "  <tbody>\n",
       "    <tr>\n",
       "      <th>0</th>\n",
       "      <td>601ac114be37ce2ead437550</td>\n",
       "      <td>Cogs</td>\n",
       "    </tr>\n",
       "    <tr>\n",
       "      <th>1</th>\n",
       "      <td>5332f5fbe4b03c9a25efd0ba</td>\n",
       "      <td>Cogs</td>\n",
       "    </tr>\n",
       "    <tr>\n",
       "      <th>2</th>\n",
       "      <td>601ac142be37ce2ead437559</td>\n",
       "      <td>Cogs</td>\n",
       "    </tr>\n",
       "    <tr>\n",
       "      <th>3</th>\n",
       "      <td>5332fa12e4b03c9a25efd1e7</td>\n",
       "      <td>Cogs</td>\n",
       "    </tr>\n",
       "    <tr>\n",
       "      <th>4</th>\n",
       "      <td>559c2234e4b06aca36af13c6</td>\n",
       "      <td>Cogs</td>\n",
       "    </tr>\n",
       "  </tbody>\n",
       "</table>\n",
       "</div>"
      ],
      "text/plain": [
       "                     cpg_id cpg_ref\n",
       "0  601ac114be37ce2ead437550    Cogs\n",
       "1  5332f5fbe4b03c9a25efd0ba    Cogs\n",
       "2  601ac142be37ce2ead437559    Cogs\n",
       "3  5332fa12e4b03c9a25efd1e7    Cogs\n",
       "4  559c2234e4b06aca36af13c6    Cogs"
      ]
     },
     "execution_count": 522,
     "metadata": {},
     "output_type": "execute_result"
    }
   ],
   "source": [
    "df_cpg.head()"
   ]
  },
  {
   "cell_type": "markdown",
   "id": "34989f54-a424-4a98-a69c-9b4f58acc754",
   "metadata": {},
   "source": [
    "## Users"
   ]
  },
  {
   "cell_type": "markdown",
   "id": "4584980b-672c-4953-acd4-df4d0334c726",
   "metadata": {},
   "source": [
    "**For `users.json.gz`, the result after extraction was corrupted so had to extra processing before could use it in DataFrames. I have kept `users.json` in `src/` folder for reference. \n",
    "Error for unprocessed file: `ValueError: Expected object or value` and verified the issue by opening extracted json, it included some random hash both in begining and end of the document. (maybe related to MangoDB)**"
   ]
  },
  {
   "cell_type": "code",
   "execution_count": 523,
   "id": "f8bd7a38-27e4-4fdd-bd95-2b7fdddd5993",
   "metadata": {},
   "outputs": [],
   "source": [
    "with gzip.open('data_gzip/users.json.gz', 'rb') as gz_file:\n",
    "    with open('users.json', 'wb') as output_file:\n",
    "        shutil.copyfileobj(gz_file, output_file)"
   ]
  },
  {
   "cell_type": "code",
   "execution_count": 524,
   "id": "a4eef98a-9251-49c1-9181-ebe3cffc8c51",
   "metadata": {},
   "outputs": [],
   "source": [
    "def find_json_start(line):\n",
    "    \"\"\"\n",
    "    Attempt to find the index where a valid JSON object starts.\n",
    "    \"\"\"\n",
    "    for i in range(len(line)):\n",
    "        try:\n",
    "            json.loads(line[i:])\n",
    "            return i\n",
    "        except json.JSONDecodeError:\n",
    "            continue\n",
    "    return None\n",
    "\n",
    "def clean_json_line(line):\n",
    "    \"\"\"\n",
    "    Try to clean the line by finding where the JSON object starts.\n",
    "    \"\"\"\n",
    "    json_start = find_json_start(line)\n",
    "    if json_start is not None:\n",
    "        try:\n",
    "            return json.loads(line[json_start:])\n",
    "        except json.JSONDecodeError:\n",
    "            return None\n",
    "    else:\n",
    "        return None\n",
    "\n",
    "def de_corrupt_json_file(input_file_path, output_file_path):\n",
    "    \"\"\"\n",
    "    Read a potentially corrupted JSON file, clean each line, and write the cleaned data to a new file.\n",
    "    \"\"\"\n",
    "    with open(input_file_path, 'r', encoding='utf-8') as file, open(output_file_path, 'w', encoding='utf-8') as outfile:\n",
    "        for line in file:\n",
    "            cleaned_line = clean_json_line(line)\n",
    "            if cleaned_line is not None:\n",
    "                json.dump(cleaned_line, outfile)\n",
    "                outfile.write('\\n')"
   ]
  },
  {
   "cell_type": "code",
   "execution_count": 525,
   "id": "c0bae6d2-5521-46fe-a94e-690cc8465b91",
   "metadata": {},
   "outputs": [],
   "source": [
    "de_corrupt_json_file('users.json', 'processed_users.json')"
   ]
  },
  {
   "cell_type": "code",
   "execution_count": 526,
   "id": "578f6ebc-0857-4e2a-a7fb-b74be8d8e3b5",
   "metadata": {},
   "outputs": [],
   "source": [
    "df_users = pd.read_json('processed_users.json', lines = True)"
   ]
  },
  {
   "cell_type": "code",
   "execution_count": 527,
   "id": "bb02cc72-c033-474f-b80f-5d9a2ab74fb9",
   "metadata": {},
   "outputs": [
    {
     "data": {
      "text/html": [
       "<div>\n",
       "<style scoped>\n",
       "    .dataframe tbody tr th:only-of-type {\n",
       "        vertical-align: middle;\n",
       "    }\n",
       "\n",
       "    .dataframe tbody tr th {\n",
       "        vertical-align: top;\n",
       "    }\n",
       "\n",
       "    .dataframe thead th {\n",
       "        text-align: right;\n",
       "    }\n",
       "</style>\n",
       "<table border=\"1\" class=\"dataframe\">\n",
       "  <thead>\n",
       "    <tr style=\"text-align: right;\">\n",
       "      <th></th>\n",
       "      <th>_id</th>\n",
       "      <th>active</th>\n",
       "      <th>createdDate</th>\n",
       "      <th>lastLogin</th>\n",
       "      <th>role</th>\n",
       "      <th>signUpSource</th>\n",
       "      <th>state</th>\n",
       "    </tr>\n",
       "  </thead>\n",
       "  <tbody>\n",
       "    <tr>\n",
       "      <th>0</th>\n",
       "      <td>{'$oid': '5ff1e194b6a9d73a3a9f1052'}</td>\n",
       "      <td>True</td>\n",
       "      <td>{'$date': 1609687444800}</td>\n",
       "      <td>{'$date': 1609687537858}</td>\n",
       "      <td>consumer</td>\n",
       "      <td>Email</td>\n",
       "      <td>WI</td>\n",
       "    </tr>\n",
       "    <tr>\n",
       "      <th>1</th>\n",
       "      <td>{'$oid': '5ff1e194b6a9d73a3a9f1052'}</td>\n",
       "      <td>True</td>\n",
       "      <td>{'$date': 1609687444800}</td>\n",
       "      <td>{'$date': 1609687537858}</td>\n",
       "      <td>consumer</td>\n",
       "      <td>Email</td>\n",
       "      <td>WI</td>\n",
       "    </tr>\n",
       "    <tr>\n",
       "      <th>2</th>\n",
       "      <td>{'$oid': '5ff1e194b6a9d73a3a9f1052'}</td>\n",
       "      <td>True</td>\n",
       "      <td>{'$date': 1609687444800}</td>\n",
       "      <td>{'$date': 1609687537858}</td>\n",
       "      <td>consumer</td>\n",
       "      <td>Email</td>\n",
       "      <td>WI</td>\n",
       "    </tr>\n",
       "    <tr>\n",
       "      <th>3</th>\n",
       "      <td>{'$oid': '5ff1e1eacfcf6c399c274ae6'}</td>\n",
       "      <td>True</td>\n",
       "      <td>{'$date': 1609687530554}</td>\n",
       "      <td>{'$date': 1609687530597}</td>\n",
       "      <td>consumer</td>\n",
       "      <td>Email</td>\n",
       "      <td>WI</td>\n",
       "    </tr>\n",
       "    <tr>\n",
       "      <th>4</th>\n",
       "      <td>{'$oid': '5ff1e194b6a9d73a3a9f1052'}</td>\n",
       "      <td>True</td>\n",
       "      <td>{'$date': 1609687444800}</td>\n",
       "      <td>{'$date': 1609687537858}</td>\n",
       "      <td>consumer</td>\n",
       "      <td>Email</td>\n",
       "      <td>WI</td>\n",
       "    </tr>\n",
       "  </tbody>\n",
       "</table>\n",
       "</div>"
      ],
      "text/plain": [
       "                                    _id  active               createdDate  \\\n",
       "0  {'$oid': '5ff1e194b6a9d73a3a9f1052'}    True  {'$date': 1609687444800}   \n",
       "1  {'$oid': '5ff1e194b6a9d73a3a9f1052'}    True  {'$date': 1609687444800}   \n",
       "2  {'$oid': '5ff1e194b6a9d73a3a9f1052'}    True  {'$date': 1609687444800}   \n",
       "3  {'$oid': '5ff1e1eacfcf6c399c274ae6'}    True  {'$date': 1609687530554}   \n",
       "4  {'$oid': '5ff1e194b6a9d73a3a9f1052'}    True  {'$date': 1609687444800}   \n",
       "\n",
       "                  lastLogin      role signUpSource state  \n",
       "0  {'$date': 1609687537858}  consumer        Email    WI  \n",
       "1  {'$date': 1609687537858}  consumer        Email    WI  \n",
       "2  {'$date': 1609687537858}  consumer        Email    WI  \n",
       "3  {'$date': 1609687530597}  consumer        Email    WI  \n",
       "4  {'$date': 1609687537858}  consumer        Email    WI  "
      ]
     },
     "execution_count": 527,
     "metadata": {},
     "output_type": "execute_result"
    }
   ],
   "source": [
    "df_users.head()"
   ]
  },
  {
   "cell_type": "code",
   "execution_count": 528,
   "id": "9e70839b-f5c9-4e73-96c8-03f766bd56b5",
   "metadata": {},
   "outputs": [
    {
     "name": "stdout",
     "output_type": "stream",
     "text": [
      "<class 'pandas.core.frame.DataFrame'>\n",
      "RangeIndex: 495 entries, 0 to 494\n",
      "Data columns (total 7 columns):\n",
      " #   Column        Non-Null Count  Dtype \n",
      "---  ------        --------------  ----- \n",
      " 0   _id           495 non-null    object\n",
      " 1   active        495 non-null    bool  \n",
      " 2   createdDate   495 non-null    object\n",
      " 3   lastLogin     433 non-null    object\n",
      " 4   role          495 non-null    object\n",
      " 5   signUpSource  447 non-null    object\n",
      " 6   state         439 non-null    object\n",
      "dtypes: bool(1), object(6)\n",
      "memory usage: 23.8+ KB\n"
     ]
    }
   ],
   "source": [
    "df_users.info()"
   ]
  },
  {
   "cell_type": "markdown",
   "id": "86cf63e6-33fd-4ccc-981c-a00da09faf3d",
   "metadata": {},
   "source": [
    "Flattening the nested JSON"
   ]
  },
  {
   "cell_type": "code",
   "execution_count": 529,
   "id": "c0a07b85-8719-4b16-b999-91bd84b3e6e3",
   "metadata": {},
   "outputs": [],
   "source": [
    "df_users['_id'] = df_users['_id'].apply(lambda x: x['$oid'] if isinstance(x, dict) else x)\n",
    "df_users.rename(columns={'_id': 'user_id'}, inplace=True)\n",
    "\n",
    "# Convert 'createdDate' and 'lastLogin' to datetime format, handling errors gracefully\n",
    "df_users['createdDate'] = pd.to_datetime(df_users['createdDate'].apply(lambda x: x.get('$date') if isinstance(x, dict) else None), unit='ms', errors='coerce')\n",
    "df_users['lastLogin'] = pd.to_datetime(df_users['lastLogin'].apply(lambda x: x.get('$date') if isinstance(x, dict) else None), unit='ms', errors='coerce')\n",
    "\n"
   ]
  },
  {
   "cell_type": "code",
   "execution_count": 530,
   "id": "d9e7d296-1052-403b-b78f-d0f5a4ae592d",
   "metadata": {},
   "outputs": [
    {
     "data": {
      "text/html": [
       "<div>\n",
       "<style scoped>\n",
       "    .dataframe tbody tr th:only-of-type {\n",
       "        vertical-align: middle;\n",
       "    }\n",
       "\n",
       "    .dataframe tbody tr th {\n",
       "        vertical-align: top;\n",
       "    }\n",
       "\n",
       "    .dataframe thead th {\n",
       "        text-align: right;\n",
       "    }\n",
       "</style>\n",
       "<table border=\"1\" class=\"dataframe\">\n",
       "  <thead>\n",
       "    <tr style=\"text-align: right;\">\n",
       "      <th></th>\n",
       "      <th>user_id</th>\n",
       "      <th>active</th>\n",
       "      <th>createdDate</th>\n",
       "      <th>lastLogin</th>\n",
       "      <th>role</th>\n",
       "      <th>signUpSource</th>\n",
       "      <th>state</th>\n",
       "    </tr>\n",
       "  </thead>\n",
       "  <tbody>\n",
       "    <tr>\n",
       "      <th>0</th>\n",
       "      <td>5ff1e194b6a9d73a3a9f1052</td>\n",
       "      <td>True</td>\n",
       "      <td>2021-01-03 15:24:04.800</td>\n",
       "      <td>2021-01-03 15:25:37.858</td>\n",
       "      <td>consumer</td>\n",
       "      <td>Email</td>\n",
       "      <td>WI</td>\n",
       "    </tr>\n",
       "    <tr>\n",
       "      <th>1</th>\n",
       "      <td>5ff1e194b6a9d73a3a9f1052</td>\n",
       "      <td>True</td>\n",
       "      <td>2021-01-03 15:24:04.800</td>\n",
       "      <td>2021-01-03 15:25:37.858</td>\n",
       "      <td>consumer</td>\n",
       "      <td>Email</td>\n",
       "      <td>WI</td>\n",
       "    </tr>\n",
       "    <tr>\n",
       "      <th>2</th>\n",
       "      <td>5ff1e194b6a9d73a3a9f1052</td>\n",
       "      <td>True</td>\n",
       "      <td>2021-01-03 15:24:04.800</td>\n",
       "      <td>2021-01-03 15:25:37.858</td>\n",
       "      <td>consumer</td>\n",
       "      <td>Email</td>\n",
       "      <td>WI</td>\n",
       "    </tr>\n",
       "    <tr>\n",
       "      <th>3</th>\n",
       "      <td>5ff1e1eacfcf6c399c274ae6</td>\n",
       "      <td>True</td>\n",
       "      <td>2021-01-03 15:25:30.554</td>\n",
       "      <td>2021-01-03 15:25:30.597</td>\n",
       "      <td>consumer</td>\n",
       "      <td>Email</td>\n",
       "      <td>WI</td>\n",
       "    </tr>\n",
       "    <tr>\n",
       "      <th>4</th>\n",
       "      <td>5ff1e194b6a9d73a3a9f1052</td>\n",
       "      <td>True</td>\n",
       "      <td>2021-01-03 15:24:04.800</td>\n",
       "      <td>2021-01-03 15:25:37.858</td>\n",
       "      <td>consumer</td>\n",
       "      <td>Email</td>\n",
       "      <td>WI</td>\n",
       "    </tr>\n",
       "  </tbody>\n",
       "</table>\n",
       "</div>"
      ],
      "text/plain": [
       "                    user_id  active             createdDate  \\\n",
       "0  5ff1e194b6a9d73a3a9f1052    True 2021-01-03 15:24:04.800   \n",
       "1  5ff1e194b6a9d73a3a9f1052    True 2021-01-03 15:24:04.800   \n",
       "2  5ff1e194b6a9d73a3a9f1052    True 2021-01-03 15:24:04.800   \n",
       "3  5ff1e1eacfcf6c399c274ae6    True 2021-01-03 15:25:30.554   \n",
       "4  5ff1e194b6a9d73a3a9f1052    True 2021-01-03 15:24:04.800   \n",
       "\n",
       "                lastLogin      role signUpSource state  \n",
       "0 2021-01-03 15:25:37.858  consumer        Email    WI  \n",
       "1 2021-01-03 15:25:37.858  consumer        Email    WI  \n",
       "2 2021-01-03 15:25:37.858  consumer        Email    WI  \n",
       "3 2021-01-03 15:25:30.597  consumer        Email    WI  \n",
       "4 2021-01-03 15:25:37.858  consumer        Email    WI  "
      ]
     },
     "execution_count": 530,
     "metadata": {},
     "output_type": "execute_result"
    }
   ],
   "source": [
    "df_users.head()"
   ]
  },
  {
   "cell_type": "code",
   "execution_count": 531,
   "id": "1111b304-714b-4bf9-9ba9-59ad621bed36",
   "metadata": {},
   "outputs": [
    {
     "data": {
      "text/plain": [
       "(495, 7)"
      ]
     },
     "execution_count": 531,
     "metadata": {},
     "output_type": "execute_result"
    }
   ],
   "source": [
    "df_users.shape"
   ]
  },
  {
   "cell_type": "code",
   "execution_count": 532,
   "id": "935844c0-e52d-4bee-a41b-83633246c9ea",
   "metadata": {},
   "outputs": [
    {
     "name": "stdout",
     "output_type": "stream",
     "text": [
      "283\n"
     ]
    }
   ],
   "source": [
    "duplicates_users = df_users.duplicated().sum()\n",
    "print(duplicates_users)"
   ]
  },
  {
   "cell_type": "code",
   "execution_count": 533,
   "id": "3057f1c7-e052-498a-9886-58fc9386a499",
   "metadata": {},
   "outputs": [],
   "source": [
    "# Dropping the duplicates\n",
    "df_users = df_users.drop_duplicates()\n",
    "df_users.reset_index(drop=True, inplace=True)"
   ]
  },
  {
   "cell_type": "code",
   "execution_count": 534,
   "id": "d578053a-bc90-4ae2-8746-6d702cfc4093",
   "metadata": {},
   "outputs": [
    {
     "data": {
      "text/plain": [
       "(212, 7)"
      ]
     },
     "execution_count": 534,
     "metadata": {},
     "output_type": "execute_result"
    }
   ],
   "source": [
    "df_users.shape"
   ]
  },
  {
   "cell_type": "code",
   "execution_count": 535,
   "id": "c17f725b-7329-405c-8070-5732df24cdec",
   "metadata": {},
   "outputs": [
    {
     "data": {
      "text/plain": [
       "user_id          0\n",
       "active           0\n",
       "createdDate      0\n",
       "lastLogin       40\n",
       "role             0\n",
       "signUpSource     5\n",
       "state            6\n",
       "dtype: int64"
      ]
     },
     "execution_count": 535,
     "metadata": {},
     "output_type": "execute_result"
    }
   ],
   "source": [
    "df_users.isnull().sum()"
   ]
  },
  {
   "cell_type": "code",
   "execution_count": 536,
   "id": "b2edec28-722e-4ba9-9136-290e6c6c100b",
   "metadata": {},
   "outputs": [
    {
     "name": "stdout",
     "output_type": "stream",
     "text": [
      "<class 'pandas.core.frame.DataFrame'>\n",
      "RangeIndex: 212 entries, 0 to 211\n",
      "Data columns (total 7 columns):\n",
      " #   Column        Non-Null Count  Dtype         \n",
      "---  ------        --------------  -----         \n",
      " 0   user_id       212 non-null    object        \n",
      " 1   active        212 non-null    bool          \n",
      " 2   createdDate   212 non-null    datetime64[ns]\n",
      " 3   lastLogin     172 non-null    datetime64[ns]\n",
      " 4   role          212 non-null    object        \n",
      " 5   signUpSource  207 non-null    object        \n",
      " 6   state         206 non-null    object        \n",
      "dtypes: bool(1), datetime64[ns](2), object(4)\n",
      "memory usage: 10.3+ KB\n"
     ]
    }
   ],
   "source": [
    "df_users.info()"
   ]
  },
  {
   "cell_type": "markdown",
   "id": "6a006eed-50d0-4960-b639-e73011001fd9",
   "metadata": {},
   "source": [
    "There are not as many missing data in Users table as compared to other two tables. \n",
    "Missing data in `lastLogin` can be dealt in following ways:\n",
    "1. Fill missing values with a placeholder date far in the past to distinguish inactive users.\n",
    "2. Exclude these rows from analyses where last login date is crucial."
   ]
  },
  {
   "cell_type": "markdown",
   "id": "6a18f796-53a6-46e1-bba0-1019a7464ce3",
   "metadata": {},
   "source": [
    "#### We have successfully transformed our data into structured DataFrames, adhering to best practices in database design. This structured format not only facilitates efficient storage in relational databases but also streamlines the process of performing in-depth analysis and making informed business decisions. \n",
    "#### By organizing our data into well-defined DataFrames, we ensure that it is optimally prepared for loading into SQL databases, enabling us to leverage the full power of relational database management systems for querying, analysis, and reporting. This strategic approach to data structuring underscores our commitment to data integrity, accessibility, and analytical readiness, positioning us to extract valuable insights that drive strategic business outcomes. \n",
    "#### Moving on to writing query portion to answer question!"
   ]
  },
  {
   "cell_type": "markdown",
   "id": "eaa0a952-f744-4ef9-9626-b72506492103",
   "metadata": {},
   "source": [
    "# Write a query that directly answers a predetermined question from a business stakeholder.\n",
    "1. When considering average spend from receipts with 'rewardsReceiptStatus’ of ‘Accepted’ or ‘Rejected’, which is greater?\n",
    "2. When considering total number of items purchased from receipts with 'rewardsReceiptStatus’ of ‘Accepted’ or ‘Rejected’, which is greater?\n",
    "\n",
    "**I'll be using SQLite for creating the database and quering it.**"
   ]
  },
  {
   "cell_type": "code",
   "execution_count": 537,
   "id": "25186217-7ad7-4a91-92ad-08c58b8575aa",
   "metadata": {},
   "outputs": [],
   "source": [
    "# Connecting to SQLite database\n",
    "conn = sqlite3.connect('data_rd.db')\n",
    "\n",
    "# Creating a cursor object using the connection\n",
    "cursor = conn.cursor()"
   ]
  },
  {
   "cell_type": "markdown",
   "id": "ddf3fb14-9f21-432d-b95a-93b2bd2699fc",
   "metadata": {},
   "source": [
    "## Creating SQLite DB"
   ]
  },
  {
   "cell_type": "code",
   "execution_count": 538,
   "id": "852381d4-602d-4055-b221-5d79691f329d",
   "metadata": {},
   "outputs": [],
   "source": [
    "# Create tables\n",
    "cursor.execute('''\n",
    "CREATE TABLE IF NOT EXISTS users (\n",
    "    user_id TEXT PRIMARY KEY,\n",
    "    active BOOLEAN,\n",
    "    createdDate DATETIME,\n",
    "    lastLogin DATETIME,\n",
    "    role TEXT,\n",
    "    signUpSource TEXT,\n",
    "    state TEXT\n",
    ");\n",
    "''')\n",
    "\n",
    "cursor.execute('''\n",
    "CREATE TABLE IF NOT EXISTS receipts (\n",
    "    receipts_id TEXT PRIMARY KEY,\n",
    "    bonusPointsEarned REAL,\n",
    "    bonusPointsEarnedReason TEXT,\n",
    "    createDate DATETIME,\n",
    "    dateScanned DATETIME,\n",
    "    finishedDate DATETIME,\n",
    "    modifyDate DATETIME,\n",
    "    pointsAwardedDate DATETIME,\n",
    "    pointsEarned REAL,\n",
    "    purchaseDate DATETIME,\n",
    "    purchasedItemCount REAL,\n",
    "    rewardsReceiptStatus TEXT,\n",
    "    totalSpent REAL,\n",
    "    userId TEXT,\n",
    "    FOREIGN KEY (userId) REFERENCES users(user_id)\n",
    ");\n",
    "''')\n",
    "\n",
    "# Adding a simple item_id for better data management\n",
    "cursor.execute('''\n",
    "CREATE TABLE IF NOT EXISTS receipt_items (\n",
    "    item_id INTEGER PRIMARY KEY AUTOINCREMENT,\n",
    "    item_barcode TEXT,\n",
    "    item_description TEXT,\n",
    "    item_finalPrice TEXT,\n",
    "    item_itemPrice TEXT,\n",
    "    item_needsFetchReview TEXT,\n",
    "    item_partnerItemId TEXT,\n",
    "    item_preventTargetGapPoints TEXT,\n",
    "    item_quantityPurchased REAL,\n",
    "    item_userFlaggedBarcode TEXT,\n",
    "    item_userFlaggedNewItem TEXT,\n",
    "    item_userFlaggedPrice TEXT,\n",
    "    item_userFlaggedQuantity REAL,\n",
    "    item_needsFetchReviewReason TEXT,\n",
    "    item_pointsNotAwardedReason TEXT,\n",
    "    item_pointsPayerId TEXT,\n",
    "    item_rewardsGroup TEXT,\n",
    "    item_rewardsProductPartnerId TEXT,\n",
    "    item_userFlaggedDescription TEXT,\n",
    "    item_originalMetaBriteBarcode TEXT,\n",
    "    item_originalMetaBriteDescription TEXT,\n",
    "    item_brandCode TEXT,\n",
    "    item_competitorRewardsGroup TEXT,\n",
    "    item_discountedItemPrice TEXT,\n",
    "    item_originalReceiptItemText TEXT,\n",
    "    item_itemNumber TEXT,\n",
    "    item_originalMetaBriteQuantityPurchased REAL,\n",
    "    item_pointsEarned TEXT,\n",
    "    item_targetPrice TEXT,\n",
    "    item_competitiveProduct TEXT,\n",
    "    item_originalFinalPrice TEXT,\n",
    "    item_originalMetaBriteItemPrice TEXT,\n",
    "    item_deleted TEXT,\n",
    "    item_priceAfterCoupon TEXT,\n",
    "    item_metabriteCampaignId TEXT,\n",
    "    receipts_id TEXT,\n",
    "    FOREIGN KEY (receipts_id) REFERENCES receipts(receipts_id)\n",
    ");\n",
    "''')\n",
    "\n",
    "\n",
    "cursor.execute('''\n",
    "CREATE TABLE IF NOT EXISTS brands (\n",
    "    brand_id TEXT PRIMARY KEY,\n",
    "    barcode INTEGER,\n",
    "    category TEXT,\n",
    "    categoryCode TEXT,\n",
    "    name TEXT,\n",
    "    topBrand REAL,\n",
    "    brandCode TEXT,\n",
    "    cpg_id TEXT,\n",
    "    FOREIGN KEY (cpg_id) REFERENCES cpg(cpg_id)\n",
    ");\n",
    "''')\n",
    "\n",
    "cursor.execute('''\n",
    "CREATE TABLE IF NOT EXISTS cpg (\n",
    "    cpg_id TEXT PRIMARY KEY,\n",
    "    cpg_ref TEXT\n",
    ");\n",
    "''')\n",
    "\n",
    "# Committing the changes\n",
    "conn.commit()"
   ]
  },
  {
   "cell_type": "markdown",
   "id": "ce5304bb-064e-400a-a3ae-dcf05c3a778c",
   "metadata": {},
   "source": [
    "## Populating the tables"
   ]
  },
  {
   "cell_type": "code",
   "execution_count": 539,
   "id": "b6914044-b8fa-401b-885b-bcb13d7d6083",
   "metadata": {},
   "outputs": [],
   "source": [
    "df_users.to_sql('users', conn, if_exists='replace', index=False)\n",
    "df_receipts.to_sql('receipts', conn, if_exists='replace', index=False)\n",
    "df_receipt_items_list.to_sql('receipt_items', conn, if_exists='replace', index=False)\n",
    "df_brands.to_sql('brands', conn, if_exists='replace', index=False)\n",
    "df_cpg.to_sql('cpg', conn, if_exists='replace', index=False)"
   ]
  },
  {
   "cell_type": "markdown",
   "id": "862498c6-599e-49b5-9420-2d4d82cf1dfb",
   "metadata": {},
   "source": [
    "## Reviewing Table Structures and Verifying Data Integrity"
   ]
  },
  {
   "cell_type": "code",
   "execution_count": 540,
   "id": "2d5f6766-a3df-467a-a875-c1891b79ebc7",
   "metadata": {},
   "outputs": [
    {
     "name": "stdout",
     "output_type": "stream",
     "text": [
      "Receipts count: 1119\n",
      "Receipt items count: 6941\n",
      "Brands count: 1167\n"
     ]
    }
   ],
   "source": [
    "cursor.execute(\"SELECT COUNT(*) FROM receipts\")\n",
    "print(\"Receipts count:\", cursor.fetchone()[0])\n",
    "\n",
    "cursor.execute(\"SELECT COUNT(*) FROM receipt_items\")\n",
    "print(\"Receipt items count:\", cursor.fetchone()[0])\n",
    "\n",
    "cursor.execute(\"SELECT COUNT(*) FROM brands\")\n",
    "print(\"Brands count:\", cursor.fetchone()[0])"
   ]
  },
  {
   "cell_type": "markdown",
   "id": "3c19bbb3-25cb-4758-bb4d-e5c2451f5c48",
   "metadata": {},
   "source": [
    "### Printing first 5 rows in each table"
   ]
  },
  {
   "cell_type": "code",
   "execution_count": 541,
   "id": "2a526628-d840-42b7-b9c3-d6e628b0e25d",
   "metadata": {},
   "outputs": [
    {
     "name": "stdout",
     "output_type": "stream",
     "text": [
      "Data from table: users\n",
      "('5ff1e194b6a9d73a3a9f1052', 1, '2021-01-03 15:24:04.800000', '2021-01-03 15:25:37.858000', 'consumer', 'Email', 'WI')\n",
      "('5ff1e1eacfcf6c399c274ae6', 1, '2021-01-03 15:25:30.554000', '2021-01-03 15:25:30.597000', 'consumer', 'Email', 'WI')\n",
      "('5ff1e1e8cfcf6c399c274ad9', 1, '2021-01-03 15:25:28.354000', '2021-01-03 15:25:28.392000', 'consumer', 'Email', 'WI')\n",
      "('5ff1e1b7cfcf6c399c274a5a', 1, '2021-01-03 15:24:39.626000', '2021-01-03 15:24:39.665000', 'consumer', 'Email', 'WI')\n",
      "('5ff1e1f1cfcf6c399c274b0b', 1, '2021-01-03 15:25:37.564000', '2021-01-03 15:25:37.599000', 'consumer', 'Email', 'WI')\n",
      "--------------------------------------------------\n",
      "Data from table: receipts\n",
      "('5ff1e1eb0a720f0523000575', 500.0, 'Receipt number 2 completed, bonus point schedule DEFAULT (5cefdcacf3693e0b50e83a36)', '2021-01-03 15:25:31', '2021-01-03 15:25:31', '2021-01-03 15:25:31', '2021-01-03 15:25:36', '2021-01-03 15:25:31', 500.0, '2021-01-03 00:00:00', 5.0, 'FINISHED', 26.0, '5ff1e1eacfcf6c399c274ae6')\n",
      "('5ff1e1bb0a720f052300056b', 150.0, 'Receipt number 5 completed, bonus point schedule DEFAULT (5cefdcacf3693e0b50e83a36)', '2021-01-03 15:24:43', '2021-01-03 15:24:43', '2021-01-03 15:24:43', '2021-01-03 15:24:48', '2021-01-03 15:24:43', 150.0, '2021-01-02 15:24:43', 2.0, 'FINISHED', 11.0, '5ff1e194b6a9d73a3a9f1052')\n",
      "('5ff1e1f10a720f052300057a', 5.0, 'All-receipts receipt bonus', '2021-01-03 15:25:37', '2021-01-03 15:25:37', None, '2021-01-03 15:25:42', None, 5.0, '2021-01-03 00:00:00', 1.0, 'REJECTED', 10.0, '5ff1e1f1cfcf6c399c274b0b')\n",
      "('5ff1e1ee0a7214ada100056f', 5.0, 'All-receipts receipt bonus', '2021-01-03 15:25:34', '2021-01-03 15:25:34', '2021-01-03 15:25:34', '2021-01-03 15:25:39', '2021-01-03 15:25:34', 5.0, '2021-01-03 00:00:00', 4.0, 'FINISHED', 28.0, '5ff1e1eacfcf6c399c274ae6')\n",
      "('5ff1e1d20a7214ada1000561', 5.0, 'All-receipts receipt bonus', '2021-01-03 15:25:06', '2021-01-03 15:25:06', '2021-01-03 15:25:11', '2021-01-03 15:25:11', '2021-01-03 15:25:06', 5.0, '2021-01-02 15:25:06', 2.0, 'FINISHED', 1.0, '5ff1e194b6a9d73a3a9f1052')\n",
      "--------------------------------------------------\n",
      "Data from table: receipt_items\n",
      "('4011', 'ITEM NOT FOUND', '26.00', '26.00', 0, '1', 1, 5.0, '4011', 1, '26.00', 5.0, None, None, None, None, None, None, None, None, None, None, None, None, None, None, None, None, None, None, None, None, None, None, '5ff1e1eb0a720f0523000575')\n",
      "('4011', 'ITEM NOT FOUND', '1', '1', None, '1', None, 1.0, None, None, None, None, None, None, None, None, None, None, None, None, None, None, None, None, None, None, None, None, None, None, None, None, None, None, '5ff1e1bb0a720f052300056b')\n",
      "('028400642255', 'DORITOS TORTILLA CHIP SPICY SWEET CHILI REDUCED FAT BAG 1 OZ', '10.00', '10.00', 1, '2', 1, 1.0, '028400642255', 1, '10.00', 1.0, 'USER_FLAGGED', 'Action not allowed for user and CPG', '5332f5fbe4b03c9a25efd0ba', 'DORITOS SPICY SWEET CHILI SINGLE SERVE', '5332f5fbe4b03c9a25efd0ba', 'DORITOS TORTILLA CHIP SPICY SWEET CHILI REDUCED FAT BAG 1 OZ', None, None, None, None, None, None, None, None, None, None, None, None, None, None, None, None, '5ff1e1bb0a720f052300056b')\n",
      "(None, None, None, None, 0, '1', 1, None, '4011', 1, '26.00', 3.0, None, None, None, None, None, None, None, None, None, None, None, None, None, None, None, None, None, None, None, None, None, None, '5ff1e1f10a720f052300057a')\n",
      "('4011', 'ITEM NOT FOUND', '28.00', '28.00', 0, '1', 1, 4.0, '4011', 1, '28.00', 4.0, None, None, None, None, None, None, None, None, None, None, None, None, None, None, None, None, None, None, None, None, None, None, '5ff1e1ee0a7214ada100056f')\n",
      "--------------------------------------------------\n",
      "Data from table: brands\n",
      "('601ac115be37ce2ead437551', 511111019862, 'Baking', 'BAKING', 'test brand @1612366101024', 0.0, None, '601ac114be37ce2ead437550')\n",
      "('601c5460be37ce2ead43755f', 511111519928, 'Beverages', 'BEVERAGES', 'Starbucks', 0.0, 'STARBUCKS', '5332f5fbe4b03c9a25efd0ba')\n",
      "('601ac142be37ce2ead43755d', 511111819905, 'Baking', 'BAKING', 'test brand @1612366146176', 0.0, 'TEST BRANDCODE @1612366146176', '601ac142be37ce2ead437559')\n",
      "('601ac142be37ce2ead43755a', 511111519874, 'Baking', 'BAKING', 'test brand @1612366146051', 0.0, 'TEST BRANDCODE @1612366146051', '601ac142be37ce2ead437559')\n",
      "('601ac142be37ce2ead43755e', 511111319917, 'Candy & Sweets', 'CANDY_AND_SWEETS', 'test brand @1612366146827', 0.0, 'TEST BRANDCODE @1612366146827', '5332fa12e4b03c9a25efd1e7')\n",
      "--------------------------------------------------\n",
      "Data from table: cpg\n",
      "('601ac114be37ce2ead437550', 'Cogs')\n",
      "('5332f5fbe4b03c9a25efd0ba', 'Cogs')\n",
      "('601ac142be37ce2ead437559', 'Cogs')\n",
      "('5332fa12e4b03c9a25efd1e7', 'Cogs')\n",
      "('559c2234e4b06aca36af13c6', 'Cogs')\n",
      "--------------------------------------------------\n"
     ]
    }
   ],
   "source": [
    "tables = ['users', 'receipts', 'receipt_items', 'brands', 'cpg']\n",
    "\n",
    "# Loop through each table and print the first 5 rows\n",
    "for table in tables:\n",
    "    print(f\"Data from table: {table}\")\n",
    "    cursor.execute(f\"SELECT * FROM {table} LIMIT 5;\")\n",
    "    \n",
    "    # Fetch all rows returned by the SELECT statement\n",
    "    rows = cursor.fetchall()\n",
    "    \n",
    "    # If rows are returned, print them\n",
    "    if rows:\n",
    "        for row in rows:\n",
    "            print(row)\n",
    "    else:\n",
    "        print(f\"No data found in table: {table}\")\n",
    "    \n",
    "    # Print a separator for readability\n",
    "    print(\"-\" * 50)\n"
   ]
  },
  {
   "cell_type": "markdown",
   "id": "7c74055a-dae4-46e4-ba9f-2deb66c606d8",
   "metadata": {},
   "source": [
    "## SQL Queries for answering questions"
   ]
  },
  {
   "cell_type": "markdown",
   "id": "df8c8da7-689e-43a3-84ea-fb992bd73a58",
   "metadata": {},
   "source": [
    "### When considering average spend from receipts with 'rewardsReceiptStatus’ of ‘Accepted’ or ‘Rejected’, which is greater?"
   ]
  },
  {
   "cell_type": "code",
   "execution_count": 542,
   "id": "c68416c7-58e7-4d5d-9ae2-3ec1dcae2714",
   "metadata": {},
   "outputs": [
    {
     "name": "stdout",
     "output_type": "stream",
     "text": [
      "['FINISHED' 'REJECTED' 'FLAGGED' 'SUBMITTED' 'PENDING']\n"
     ]
    }
   ],
   "source": [
    "unique_statuses = df_receipts['rewardsReceiptStatus'].unique()\n",
    "print(unique_statuses)"
   ]
  },
  {
   "cell_type": "markdown",
   "id": "807f6c2c-7df9-4627-8284-25a62ab1b1a0",
   "metadata": {},
   "source": [
    "**There is no ACCEPTED but logically FINISHED can be replaced with ACCEPTED**"
   ]
  },
  {
   "cell_type": "code",
   "execution_count": 543,
   "id": "2c2a1473-1c07-491f-a092-f0dc11991d11",
   "metadata": {},
   "outputs": [
    {
     "name": "stdout",
     "output_type": "stream",
     "text": [
      "Average Total Spent by Receipt Status:\n",
      "Status: REJECTED, Average Total Spent: 23.326056338028184\n",
      "Status: FINISHED, Average Total Spent: 80.85430501930502\n"
     ]
    }
   ],
   "source": [
    "# SQL query adjusted for the given table structures\n",
    "sql_query = \"\"\"\n",
    "SELECT \n",
    "    rewardsReceiptStatus, \n",
    "    AVG(CAST(totalSpent AS REAL)) AS avgTotalSpent\n",
    "FROM \n",
    "    receipts\n",
    "WHERE \n",
    "    rewardsReceiptStatus IN ('REJECTED', 'FINISHED')\n",
    "GROUP BY \n",
    "    rewardsReceiptStatus\n",
    "ORDER BY \n",
    "    avgTotalSpent;\n",
    "\"\"\"\n",
    "\n",
    "# Execute the query\n",
    "cursor.execute(sql_query)\n",
    "results = cursor.fetchall()\n",
    "\n",
    "print(\"Average Total Spent by Receipt Status:\")\n",
    "for result in results:\n",
    "    print(f\"Status: {result[0]}, Average Total Spent: {result[1]}\")"
   ]
  },
  {
   "cell_type": "markdown",
   "id": "64e85adf-f429-4b8e-a205-6565fa913956",
   "metadata": {},
   "source": [
    "### When considering total number of items purchased from receipts with 'rewardsReceiptStatus’ of ‘Accepted’ or ‘Rejected’, which is greater?"
   ]
  },
  {
   "cell_type": "code",
   "execution_count": 544,
   "id": "895c0764-3566-4b4d-a41c-d634912cee9c",
   "metadata": {},
   "outputs": [
    {
     "name": "stdout",
     "output_type": "stream",
     "text": [
      "FINISHED receipts have more items purchased: 8184.0\n"
     ]
    }
   ],
   "source": [
    "# SQL query adjusted for the given table structures\n",
    "sql_query = \"\"\"\n",
    "SELECT \n",
    "    rewardsReceiptStatus,\n",
    "    SUM(purchasedItemCount) AS totalItemsPurchased\n",
    "FROM \n",
    "    receipts\n",
    "WHERE \n",
    "    rewardsReceiptStatus IN ('REJECTED', 'FINISHED')\n",
    "GROUP BY \n",
    "    rewardsReceiptStatus;\n",
    "\"\"\"\n",
    "\n",
    "# Execute the query\n",
    "cursor.execute(sql_query)\n",
    "results = cursor.fetchall()\n",
    "\n",
    "# Assuming the result could be in any order\n",
    "finished_items = 0\n",
    "rejected_items = 0\n",
    "for status, total in results:\n",
    "    if status == 'FINISHED':\n",
    "        accepted_items = total\n",
    "    elif status == 'REJECTED':\n",
    "        rejected_items = total\n",
    "\n",
    "# Compare and print the results\n",
    "if accepted_items > rejected_items:\n",
    "    print(f\"FINISHED receipts have more items purchased: {accepted_items}\")\n",
    "elif rejected_items > accepted_items:\n",
    "    print(f\"REJECTED receipts have more items purchased: {rejected_items}\")\n",
    "else:\n",
    "    print(\"The number of items purchased is equal for ACCEPTED and REJECTED receipts.\")"
   ]
  },
  {
   "cell_type": "markdown",
   "id": "d540c5b5-b227-4e61-8aba-b2026b3df5ac",
   "metadata": {},
   "source": [
    "# Evaluating Data Quality Issues in the Data Provided"
   ]
  },
  {
   "cell_type": "markdown",
   "id": "cc2eff40-8a1d-4471-94a4-b2ffd4019161",
   "metadata": {},
   "source": [
    "### In addition to addressing the issue of duplicates within the `users` table during the data wrangling phase, another significant concern identified is as follows:"
   ]
  },
  {
   "cell_type": "code",
   "execution_count": 545,
   "id": "ba9d8f3d-2214-4b3c-9677-46e587d9aeac",
   "metadata": {},
   "outputs": [
    {
     "name": "stdout",
     "output_type": "stream",
     "text": [
      "Percentage of missing values in 'item_needsFetchReview': 88.29%\n"
     ]
    }
   ],
   "source": [
    "# SQL query to count the total number of rows in 'receipt_items'\n",
    "query_total_rows = \"SELECT COUNT(*) FROM receipt_items;\"\n",
    "\n",
    "# Execute the query and fetch the result\n",
    "cursor.execute(query_total_rows)\n",
    "total_rows = cursor.fetchone()[0]\n",
    "\n",
    "# SQL query to count missing values in 'item_needsFetchReview'\n",
    "query_missing_needsFetchReview = \"\"\"\n",
    "SELECT COUNT(*) \n",
    "FROM receipt_items \n",
    "WHERE item_needsFetchReview IS NULL;\n",
    "\"\"\"\n",
    "\n",
    "# Execute the query and fetch the result for missing values\n",
    "cursor.execute(query_missing_needsFetchReview)\n",
    "missing_needsFetchReview_count = cursor.fetchone()[0]\n",
    "\n",
    "# Calculate the percentage of missing values\n",
    "percent_missing_needsFetchReview = (missing_needsFetchReview_count / total_rows) * 100\n",
    "print(f\"Percentage of missing values in 'item_needsFetchReview': {percent_missing_needsFetchReview:.2f}%\")"
   ]
  },
  {
   "cell_type": "code",
   "execution_count": 546,
   "id": "ad927794-3417-4728-a91c-346956b4f46f",
   "metadata": {},
   "outputs": [
    {
     "name": "stdout",
     "output_type": "stream",
     "text": [
      "Percentage of missing values in 'item_needsFetchReviewReason': 96.84%\n"
     ]
    }
   ],
   "source": [
    "# SQL query to count missing values in 'item_needsFetchReviewReason'\n",
    "query_missing_needsFetchReviewReason = \"\"\"\n",
    "SELECT COUNT(*) \n",
    "FROM receipt_items \n",
    "WHERE item_needsFetchReviewReason IS NULL;\n",
    "\"\"\"\n",
    "\n",
    "# Execute the query and fetch the result for missing values\n",
    "cursor.execute(query_missing_needsFetchReviewReason)\n",
    "missing_needsFetchReviewReason_count = cursor.fetchone()[0]\n",
    "\n",
    "# Calculate the percentage of missing values\n",
    "percent_missing_needsFetchReviewReason = (missing_needsFetchReviewReason_count / total_rows) * 100\n",
    "print(f\"Percentage of missing values in 'item_needsFetchReviewReason': {percent_missing_needsFetchReviewReason:.2f}%\")"
   ]
  },
  {
   "cell_type": "code",
   "execution_count": 547,
   "id": "165b0b99-d37a-43df-ba66-6cb4342bb03a",
   "metadata": {},
   "outputs": [],
   "source": [
    "# Closing the database connection\n",
    "conn.close()"
   ]
  }
 ],
 "metadata": {
  "kernelspec": {
   "display_name": "Python 3",
   "language": "python",
   "name": "python3"
  },
  "language_info": {
   "codemirror_mode": {
    "name": "ipython",
    "version": 3
   },
   "file_extension": ".py",
   "mimetype": "text/x-python",
   "name": "python",
   "nbconvert_exporter": "python",
   "pygments_lexer": "ipython3",
   "version": "3.8.8"
  }
 },
 "nbformat": 4,
 "nbformat_minor": 5
}
